{
 "cells": [
  {
   "cell_type": "code",
   "execution_count": 2,
   "metadata": {},
   "outputs": [],
   "source": [
    "import os\n",
    "import pathlib\n",
    "\n",
    "import numpy as np\n",
    "import matplotlib.pyplot as plt\n",
    "%matplotlib inline\n",
    "\n",
    "import tensorflow as tf\n",
    "from tensorflow.keras.models import Sequential\n",
    "from tensorflow.keras.layers import Dense, Flatten, Conv2D, Dropout\n",
    "\n",
    "seed = 8801\n",
    "np.random.seed(seed)\n",
    "tf.random.set_seed(seed)"
   ]
  },
  {
   "cell_type": "code",
   "execution_count": 24,
   "metadata": {},
   "outputs": [],
   "source": [
    "blacklisted_paths = [\n",
    "  '.DS_Store'\n",
    "]"
   ]
  },
  {
   "cell_type": "code",
   "execution_count": 25,
   "metadata": {},
   "outputs": [
    {
     "name": "stdout",
     "output_type": "stream",
     "text": [
      "['hey-player', 'mute', 'next', 'pause', 'play', 'previous', 'rewind', 'unmute']\n"
     ]
    }
   ],
   "source": [
    "commands = np.array(os.listdir('../recordings'))\n",
    "commands = commands[~np.isin(commands, blacklisted_paths)]\n",
    "print(sorted(commands))"
   ]
  },
  {
   "cell_type": "code",
   "execution_count": 35,
   "metadata": {},
   "outputs": [
    {
     "name": "stdout",
     "output_type": "stream",
     "text": [
      "Found 160 files belonging to 8 classes.\n"
     ]
    },
    {
     "name": "stderr",
     "output_type": "stream",
     "text": [
      "/Users/paul/.miniforge3/envs/asr/lib/python3.10/multiprocessing/resource_tracker.py:104: UserWarning: resource_tracker: process died unexpectedly, relaunching.  Some resources might leak.\n",
      "  warnings.warn('resource_tracker: process died unexpectedly, '\n"
     ]
    }
   ],
   "source": [
    "train_ds = tf.keras.utils.audio_dataset_from_directory(\n",
    "  directory='../recordings',\n",
    "  seed=seed\n",
    ")"
   ]
  },
  {
   "cell_type": "code",
   "execution_count": null,
   "metadata": {},
   "outputs": [
    {
     "name": "stdout",
     "output_type": "stream",
     "text": [
      "Found 160 files belonging to 8 classes.\n",
      "Using 128 files for training.\n",
      "Using 32 files for validation.\n"
     ]
    },
    {
     "name": "stderr",
     "output_type": "stream",
     "text": [
      "/Users/paul/.miniforge3/envs/asr/lib/python3.10/multiprocessing/resource_tracker.py:104: UserWarning: resource_tracker: process died unexpectedly, relaunching.  Some resources might leak.\n",
      "  warnings.warn('resource_tracker: process died unexpectedly, '\n"
     ]
    }
   ],
   "source": [
    "train_ds, val_ds = tf.keras.utils.audio_dataset_from_directory(\n",
    "  directory='../recordings',\n",
    "  batch_size=1,\n",
    "  validation_split=0.2,\n",
    "  seed=seed,\n",
    "  output_sequence_length=16000,\n",
    "  subset='both',\n",
    ")"
   ]
  },
  {
   "cell_type": "code",
   "execution_count": 27,
   "metadata": {},
   "outputs": [
    {
     "name": "stdout",
     "output_type": "stream",
     "text": [
      "['hey-player', 'mute', 'next', 'pause', 'play', 'previous', 'rewind', 'unmute']\n"
     ]
    }
   ],
   "source": [
    "label_names = np.array(train_ds.class_names)\n",
    "print(sorted(label_names))"
   ]
  },
  {
   "cell_type": "code",
   "execution_count": 28,
   "metadata": {},
   "outputs": [
    {
     "data": {
      "text/plain": [
       "(TensorSpec(shape=(None, 16000, None), dtype=tf.float32, name=None),\n",
       " TensorSpec(shape=(None,), dtype=tf.int32, name=None))"
      ]
     },
     "execution_count": 28,
     "metadata": {},
     "output_type": "execute_result"
    }
   ],
   "source": [
    "train_ds.element_spec"
   ]
  },
  {
   "cell_type": "code",
   "execution_count": 34,
   "metadata": {},
   "outputs": [
    {
     "name": "stderr",
     "output_type": "stream",
     "text": [
      "2022-11-09 19:12:46.621703: W tensorflow/core/framework/op_kernel.cc:1780] OP_REQUIRES failed at decode_wav_op.cc:55 : INVALID_ARGUMENT: Data too short when trying to read string\n",
      "2022-11-09 19:12:46.621834: W tensorflow/core/framework/op_kernel.cc:1780] OP_REQUIRES failed at decode_wav_op.cc:55 : INVALID_ARGUMENT: Data too short when trying to read string\n",
      "2022-11-09 19:12:46.621871: W tensorflow/core/framework/op_kernel.cc:1780] OP_REQUIRES failed at decode_wav_op.cc:55 : INVALID_ARGUMENT: Data too short when trying to read string\n",
      "2022-11-09 19:12:46.621902: W tensorflow/core/framework/op_kernel.cc:1780] OP_REQUIRES failed at decode_wav_op.cc:55 : INVALID_ARGUMENT: Data too short when trying to read string\n",
      "2022-11-09 19:12:46.622409: W tensorflow/core/framework/op_kernel.cc:1780] OP_REQUIRES failed at decode_wav_op.cc:55 : INVALID_ARGUMENT: Data too short when trying to read string\n",
      "2022-11-09 19:12:46.622477: W tensorflow/core/framework/op_kernel.cc:1780] OP_REQUIRES failed at decode_wav_op.cc:55 : INVALID_ARGUMENT: Data too short when trying to read string\n",
      "2022-11-09 19:12:46.622490: W tensorflow/core/framework/op_kernel.cc:1780] OP_REQUIRES failed at decode_wav_op.cc:55 : INVALID_ARGUMENT: Data too short when trying to read string\n",
      "2022-11-09 19:12:46.622846: W tensorflow/core/framework/op_kernel.cc:1780] OP_REQUIRES failed at decode_wav_op.cc:55 : INVALID_ARGUMENT: Data too short when trying to read string\n",
      "2022-11-09 19:12:46.622974: W tensorflow/core/framework/op_kernel.cc:1780] OP_REQUIRES failed at decode_wav_op.cc:55 : INVALID_ARGUMENT: Data too short when trying to read string\n",
      "2022-11-09 19:12:46.623018: W tensorflow/core/framework/op_kernel.cc:1780] OP_REQUIRES failed at decode_wav_op.cc:55 : INVALID_ARGUMENT: Data too short when trying to read string\n",
      "2022-11-09 19:12:46.623601: W tensorflow/core/framework/op_kernel.cc:1780] OP_REQUIRES failed at decode_wav_op.cc:55 : INVALID_ARGUMENT: Data too short when trying to read string\n",
      "2022-11-09 19:12:46.623780: W tensorflow/core/framework/op_kernel.cc:1780] OP_REQUIRES failed at decode_wav_op.cc:55 : INVALID_ARGUMENT: Data too short when trying to read string\n",
      "2022-11-09 19:12:46.624220: W tensorflow/core/framework/op_kernel.cc:1780] OP_REQUIRES failed at decode_wav_op.cc:55 : INVALID_ARGUMENT: Data too short when trying to read string\n",
      "2022-11-09 19:12:46.624274: W tensorflow/core/framework/op_kernel.cc:1780] OP_REQUIRES failed at decode_wav_op.cc:55 : INVALID_ARGUMENT: Data too short when trying to read string\n",
      "2022-11-09 19:12:46.624310: W tensorflow/core/framework/op_kernel.cc:1780] OP_REQUIRES failed at decode_wav_op.cc:55 : INVALID_ARGUMENT: Data too short when trying to read string\n",
      "2022-11-09 19:12:46.624352: W tensorflow/core/framework/op_kernel.cc:1780] OP_REQUIRES failed at decode_wav_op.cc:55 : INVALID_ARGUMENT: Data too short when trying to read string\n",
      "2022-11-09 19:12:46.624601: W tensorflow/core/framework/op_kernel.cc:1780] OP_REQUIRES failed at decode_wav_op.cc:55 : INVALID_ARGUMENT: Data too short when trying to read string\n",
      "2022-11-09 19:12:46.624793: W tensorflow/core/framework/op_kernel.cc:1780] OP_REQUIRES failed at decode_wav_op.cc:55 : INVALID_ARGUMENT: Data too short when trying to read string\n",
      "2022-11-09 19:12:46.625625: W tensorflow/core/framework/op_kernel.cc:1780] OP_REQUIRES failed at decode_wav_op.cc:55 : INVALID_ARGUMENT: Data too short when trying to read string\n",
      "2022-11-09 19:12:46.625639: W tensorflow/core/framework/op_kernel.cc:1780] OP_REQUIRES failed at decode_wav_op.cc:55 : INVALID_ARGUMENT: Data too short when trying to read string\n",
      "2022-11-09 19:12:46.625710: W tensorflow/core/framework/op_kernel.cc:1780] OP_REQUIRES failed at decode_wav_op.cc:55 : INVALID_ARGUMENT: Data too short when trying to read string\n",
      "2022-11-09 19:12:46.625728: W tensorflow/core/framework/op_kernel.cc:1780] OP_REQUIRES failed at decode_wav_op.cc:55 : INVALID_ARGUMENT: Data too short when trying to read string\n",
      "2022-11-09 19:12:46.625878: W tensorflow/core/framework/op_kernel.cc:1780] OP_REQUIRES failed at decode_wav_op.cc:55 : INVALID_ARGUMENT: Data too short when trying to read string\n",
      "2022-11-09 19:12:46.626038: W tensorflow/core/framework/op_kernel.cc:1780] OP_REQUIRES failed at decode_wav_op.cc:55 : INVALID_ARGUMENT: Data too short when trying to read string\n",
      "2022-11-09 19:12:46.626668: W tensorflow/core/framework/op_kernel.cc:1780] OP_REQUIRES failed at decode_wav_op.cc:55 : INVALID_ARGUMENT: Data too short when trying to read string\n",
      "2022-11-09 19:12:46.626709: W tensorflow/core/framework/op_kernel.cc:1780] OP_REQUIRES failed at decode_wav_op.cc:55 : INVALID_ARGUMENT: Data too short when trying to read string\n",
      "2022-11-09 19:12:46.626732: W tensorflow/core/framework/op_kernel.cc:1780] OP_REQUIRES failed at decode_wav_op.cc:55 : INVALID_ARGUMENT: Data too short when trying to read string\n",
      "2022-11-09 19:12:46.626944: W tensorflow/core/framework/op_kernel.cc:1780] OP_REQUIRES failed at decode_wav_op.cc:55 : INVALID_ARGUMENT: Data too short when trying to read string\n",
      "2022-11-09 19:12:46.627002: W tensorflow/core/framework/op_kernel.cc:1780] OP_REQUIRES failed at decode_wav_op.cc:55 : INVALID_ARGUMENT: Data too short when trying to read string\n"
     ]
    },
    {
     "ename": "InvalidArgumentError",
     "evalue": "{{function_node __wrapped__IteratorGetNext_output_types_2_device_/job:localhost/replica:0/task:0/device:CPU:0}} Data too short when trying to read string\n\t [[{{node DecodeWav}}]] [Op:IteratorGetNext]",
     "output_type": "error",
     "traceback": [
      "\u001b[0;31m---------------------------------------------------------------------------\u001b[0m",
      "\u001b[0;31mInvalidArgumentError\u001b[0m                      Traceback (most recent call last)",
      "Cell \u001b[0;32mIn [34], line 1\u001b[0m\n\u001b[0;32m----> 1\u001b[0m \u001b[39mfor\u001b[39;00m audio, _ \u001b[39min\u001b[39;00m train_ds\u001b[39m.\u001b[39mtake(\u001b[39m1\u001b[39m):\n\u001b[1;32m      2\u001b[0m   \u001b[39mprint\u001b[39m(audio\u001b[39m.\u001b[39mshape)\n",
      "File \u001b[0;32m~/.miniforge3/envs/asr/lib/python3.10/site-packages/tensorflow/python/data/ops/iterator_ops.py:766\u001b[0m, in \u001b[0;36mOwnedIterator.__next__\u001b[0;34m(self)\u001b[0m\n\u001b[1;32m    764\u001b[0m \u001b[39mdef\u001b[39;00m \u001b[39m__next__\u001b[39m(\u001b[39mself\u001b[39m):\n\u001b[1;32m    765\u001b[0m   \u001b[39mtry\u001b[39;00m:\n\u001b[0;32m--> 766\u001b[0m     \u001b[39mreturn\u001b[39;00m \u001b[39mself\u001b[39;49m\u001b[39m.\u001b[39;49m_next_internal()\n\u001b[1;32m    767\u001b[0m   \u001b[39mexcept\u001b[39;00m errors\u001b[39m.\u001b[39mOutOfRangeError:\n\u001b[1;32m    768\u001b[0m     \u001b[39mraise\u001b[39;00m \u001b[39mStopIteration\u001b[39;00m\n",
      "File \u001b[0;32m~/.miniforge3/envs/asr/lib/python3.10/site-packages/tensorflow/python/data/ops/iterator_ops.py:749\u001b[0m, in \u001b[0;36mOwnedIterator._next_internal\u001b[0;34m(self)\u001b[0m\n\u001b[1;32m    746\u001b[0m \u001b[39m# TODO(b/77291417): This runs in sync mode as iterators use an error status\u001b[39;00m\n\u001b[1;32m    747\u001b[0m \u001b[39m# to communicate that there is no more data to iterate over.\u001b[39;00m\n\u001b[1;32m    748\u001b[0m \u001b[39mwith\u001b[39;00m context\u001b[39m.\u001b[39mexecution_mode(context\u001b[39m.\u001b[39mSYNC):\n\u001b[0;32m--> 749\u001b[0m   ret \u001b[39m=\u001b[39m gen_dataset_ops\u001b[39m.\u001b[39;49miterator_get_next(\n\u001b[1;32m    750\u001b[0m       \u001b[39mself\u001b[39;49m\u001b[39m.\u001b[39;49m_iterator_resource,\n\u001b[1;32m    751\u001b[0m       output_types\u001b[39m=\u001b[39;49m\u001b[39mself\u001b[39;49m\u001b[39m.\u001b[39;49m_flat_output_types,\n\u001b[1;32m    752\u001b[0m       output_shapes\u001b[39m=\u001b[39;49m\u001b[39mself\u001b[39;49m\u001b[39m.\u001b[39;49m_flat_output_shapes)\n\u001b[1;32m    754\u001b[0m   \u001b[39mtry\u001b[39;00m:\n\u001b[1;32m    755\u001b[0m     \u001b[39m# Fast path for the case `self._structure` is not a nested structure.\u001b[39;00m\n\u001b[1;32m    756\u001b[0m     \u001b[39mreturn\u001b[39;00m \u001b[39mself\u001b[39m\u001b[39m.\u001b[39m_element_spec\u001b[39m.\u001b[39m_from_compatible_tensor_list(ret)  \u001b[39m# pylint: disable=protected-access\u001b[39;00m\n",
      "File \u001b[0;32m~/.miniforge3/envs/asr/lib/python3.10/site-packages/tensorflow/python/ops/gen_dataset_ops.py:3017\u001b[0m, in \u001b[0;36miterator_get_next\u001b[0;34m(iterator, output_types, output_shapes, name)\u001b[0m\n\u001b[1;32m   3015\u001b[0m   \u001b[39mreturn\u001b[39;00m _result\n\u001b[1;32m   3016\u001b[0m \u001b[39mexcept\u001b[39;00m _core\u001b[39m.\u001b[39m_NotOkStatusException \u001b[39mas\u001b[39;00m e:\n\u001b[0;32m-> 3017\u001b[0m   _ops\u001b[39m.\u001b[39;49mraise_from_not_ok_status(e, name)\n\u001b[1;32m   3018\u001b[0m \u001b[39mexcept\u001b[39;00m _core\u001b[39m.\u001b[39m_FallbackException:\n\u001b[1;32m   3019\u001b[0m   \u001b[39mpass\u001b[39;00m\n",
      "File \u001b[0;32m~/.miniforge3/envs/asr/lib/python3.10/site-packages/tensorflow/python/framework/ops.py:7209\u001b[0m, in \u001b[0;36mraise_from_not_ok_status\u001b[0;34m(e, name)\u001b[0m\n\u001b[1;32m   7207\u001b[0m \u001b[39mdef\u001b[39;00m \u001b[39mraise_from_not_ok_status\u001b[39m(e, name):\n\u001b[1;32m   7208\u001b[0m   e\u001b[39m.\u001b[39mmessage \u001b[39m+\u001b[39m\u001b[39m=\u001b[39m (\u001b[39m\"\u001b[39m\u001b[39m name: \u001b[39m\u001b[39m\"\u001b[39m \u001b[39m+\u001b[39m name \u001b[39mif\u001b[39;00m name \u001b[39mis\u001b[39;00m \u001b[39mnot\u001b[39;00m \u001b[39mNone\u001b[39;00m \u001b[39melse\u001b[39;00m \u001b[39m\"\u001b[39m\u001b[39m\"\u001b[39m)\n\u001b[0;32m-> 7209\u001b[0m   \u001b[39mraise\u001b[39;00m core\u001b[39m.\u001b[39m_status_to_exception(e) \u001b[39mfrom\u001b[39;00m \u001b[39mNone\u001b[39m\n",
      "\u001b[0;31mInvalidArgumentError\u001b[0m: {{function_node __wrapped__IteratorGetNext_output_types_2_device_/job:localhost/replica:0/task:0/device:CPU:0}} Data too short when trying to read string\n\t [[{{node DecodeWav}}]] [Op:IteratorGetNext]"
     ]
    }
   ],
   "source": [
    "for audio, _ in train_ds.take(1):\n",
    "  print(audio.shape)"
   ]
  },
  {
   "cell_type": "code",
   "execution_count": 29,
   "metadata": {},
   "outputs": [],
   "source": [
    "def squeeze(audio, labels):\n",
    "  return tf.squeeze(audio, axis=-1), labels"
   ]
  },
  {
   "cell_type": "code",
   "execution_count": 30,
   "metadata": {},
   "outputs": [],
   "source": [
    "train_ds = train_ds.map(squeeze, tf.data.AUTOTUNE)\n",
    "val_ds = val_ds.map(squeeze, tf.data.AUTOTUNE)"
   ]
  },
  {
   "cell_type": "code",
   "execution_count": 31,
   "metadata": {},
   "outputs": [
    {
     "name": "stderr",
     "output_type": "stream",
     "text": [
      "2022-11-09 19:11:36.487200: W tensorflow/core/framework/op_kernel.cc:1780] OP_REQUIRES failed at decode_wav_op.cc:55 : INVALID_ARGUMENT: Data too short when trying to read string\n",
      "2022-11-09 19:11:36.487284: W tensorflow/core/framework/op_kernel.cc:1780] OP_REQUIRES failed at decode_wav_op.cc:55 : INVALID_ARGUMENT: Data too short when trying to read string\n",
      "2022-11-09 19:11:36.487310: W tensorflow/core/framework/op_kernel.cc:1780] OP_REQUIRES failed at decode_wav_op.cc:55 : INVALID_ARGUMENT: Data too short when trying to read string\n",
      "2022-11-09 19:11:36.487392: W tensorflow/core/framework/op_kernel.cc:1780] OP_REQUIRES failed at decode_wav_op.cc:55 : INVALID_ARGUMENT: Data too short when trying to read string\n",
      "2022-11-09 19:11:36.487434: W tensorflow/core/framework/op_kernel.cc:1780] OP_REQUIRES failed at decode_wav_op.cc:55 : INVALID_ARGUMENT: Data too short when trying to read string\n",
      "2022-11-09 19:11:36.487515: W tensorflow/core/framework/op_kernel.cc:1780] OP_REQUIRES failed at decode_wav_op.cc:55 : INVALID_ARGUMENT: Data too short when trying to read string\n",
      "2022-11-09 19:11:36.487658: W tensorflow/core/framework/op_kernel.cc:1780] OP_REQUIRES failed at decode_wav_op.cc:55 : INVALID_ARGUMENT: Data too short when trying to read string\n",
      "2022-11-09 19:11:36.488072: W tensorflow/core/framework/op_kernel.cc:1780] OP_REQUIRES failed at decode_wav_op.cc:55 : INVALID_ARGUMENT: Data too short when trying to read string\n",
      "2022-11-09 19:11:36.488310: W tensorflow/core/framework/op_kernel.cc:1780] OP_REQUIRES failed at decode_wav_op.cc:55 : INVALID_ARGUMENT: Data too short when trying to read string\n",
      "2022-11-09 19:11:36.488371: W tensorflow/core/framework/op_kernel.cc:1780] OP_REQUIRES failed at decode_wav_op.cc:55 : INVALID_ARGUMENT: Data too short when trying to read string\n",
      "2022-11-09 19:11:36.489128: W tensorflow/core/framework/op_kernel.cc:1780] OP_REQUIRES failed at decode_wav_op.cc:55 : INVALID_ARGUMENT: Data too short when trying to read string\n",
      "2022-11-09 19:11:36.489282: W tensorflow/core/framework/op_kernel.cc:1780] OP_REQUIRES failed at decode_wav_op.cc:55 : INVALID_ARGUMENT: Data too short when trying to read string\n",
      "2022-11-09 19:11:36.489326: W tensorflow/core/framework/op_kernel.cc:1780] OP_REQUIRES failed at decode_wav_op.cc:55 : INVALID_ARGUMENT: Data too short when trying to read string\n",
      "2022-11-09 19:11:36.489345: W tensorflow/core/framework/op_kernel.cc:1780] OP_REQUIRES failed at decode_wav_op.cc:55 : INVALID_ARGUMENT: Data too short when trying to read string\n",
      "2022-11-09 19:11:36.490839: W tensorflow/core/framework/op_kernel.cc:1780] OP_REQUIRES failed at decode_wav_op.cc:55 : INVALID_ARGUMENT: Data too short when trying to read string\n",
      "2022-11-09 19:11:36.490896: W tensorflow/core/framework/op_kernel.cc:1780] OP_REQUIRES failed at decode_wav_op.cc:55 : INVALID_ARGUMENT: Data too short when trying to read string\n",
      "2022-11-09 19:11:36.490917: W tensorflow/core/framework/op_kernel.cc:1780] OP_REQUIRES failed at decode_wav_op.cc:55 : INVALID_ARGUMENT: Data too short when trying to read string\n",
      "2022-11-09 19:11:36.490922: W tensorflow/core/framework/op_kernel.cc:1780] OP_REQUIRES failed at decode_wav_op.cc:55 : INVALID_ARGUMENT: Data too short when trying to read string\n",
      "2022-11-09 19:11:36.490939: W tensorflow/core/framework/op_kernel.cc:1780] OP_REQUIRES failed at decode_wav_op.cc:55 : INVALID_ARGUMENT: Data too short when trying to read string\n",
      "2022-11-09 19:11:36.490973: W tensorflow/core/framework/op_kernel.cc:1780] OP_REQUIRES failed at decode_wav_op.cc:55 : INVALID_ARGUMENT: Data too short when trying to read string\n",
      "2022-11-09 19:11:36.491860: W tensorflow/core/framework/op_kernel.cc:1780] OP_REQUIRES failed at decode_wav_op.cc:55 : INVALID_ARGUMENT: Data too short when trying to read string\n",
      "2022-11-09 19:11:36.492560: W tensorflow/core/framework/op_kernel.cc:1780] OP_REQUIRES failed at decode_wav_op.cc:55 : INVALID_ARGUMENT: Data too short when trying to read string\n",
      "2022-11-09 19:11:36.492569: W tensorflow/core/framework/op_kernel.cc:1780] OP_REQUIRES failed at decode_wav_op.cc:55 : INVALID_ARGUMENT: Data too short when trying to read string\n",
      "2022-11-09 19:11:36.492596: W tensorflow/core/framework/op_kernel.cc:1780] OP_REQUIRES failed at decode_wav_op.cc:55 : INVALID_ARGUMENT: Data too short when trying to read string\n",
      "2022-11-09 19:11:36.492607: W tensorflow/core/framework/op_kernel.cc:1780] OP_REQUIRES failed at decode_wav_op.cc:55 : INVALID_ARGUMENT: Data too short when trying to read string\n",
      "2022-11-09 19:11:36.492611: W tensorflow/core/framework/op_kernel.cc:1780] OP_REQUIRES failed at decode_wav_op.cc:55 : INVALID_ARGUMENT: Data too short when trying to read string\n",
      "2022-11-09 19:11:36.493065: W tensorflow/core/framework/op_kernel.cc:1780] OP_REQUIRES failed at decode_wav_op.cc:55 : INVALID_ARGUMENT: Data too short when trying to read string\n",
      "2022-11-09 19:11:36.493462: W tensorflow/core/framework/op_kernel.cc:1780] OP_REQUIRES failed at decode_wav_op.cc:55 : INVALID_ARGUMENT: Data too short when trying to read string\n",
      "2022-11-09 19:11:36.493595: W tensorflow/core/framework/op_kernel.cc:1780] OP_REQUIRES failed at decode_wav_op.cc:55 : INVALID_ARGUMENT: Data too short when trying to read string\n"
     ]
    },
    {
     "ename": "InvalidArgumentError",
     "evalue": "{{function_node __wrapped__IteratorGetNext_output_types_2_device_/job:localhost/replica:0/task:0/device:CPU:0}} Data too short when trying to read string\n\t [[{{node DecodeWav}}]] [Op:IteratorGetNext]",
     "output_type": "error",
     "traceback": [
      "\u001b[0;31m---------------------------------------------------------------------------\u001b[0m",
      "\u001b[0;31mInvalidArgumentError\u001b[0m                      Traceback (most recent call last)",
      "Cell \u001b[0;32mIn [31], line 1\u001b[0m\n\u001b[0;32m----> 1\u001b[0m \u001b[39mfor\u001b[39;00m example_audio, example_labels \u001b[39min\u001b[39;00m train_ds\u001b[39m.\u001b[39mtake(\u001b[39m1\u001b[39m):\n\u001b[1;32m      2\u001b[0m   \u001b[39mprint\u001b[39m(\u001b[39m'\u001b[39m\u001b[39mAudio shape: \u001b[39m\u001b[39m'\u001b[39m, example_audio\u001b[39m.\u001b[39mnumpy()\u001b[39m.\u001b[39mshape)\n\u001b[1;32m      3\u001b[0m   \u001b[39mprint\u001b[39m(\u001b[39m'\u001b[39m\u001b[39mAudio label: \u001b[39m\u001b[39m'\u001b[39m, example_label\u001b[39m.\u001b[39mnumpy()\u001b[39m.\u001b[39mshape)\n",
      "File \u001b[0;32m~/.miniforge3/envs/asr/lib/python3.10/site-packages/tensorflow/python/data/ops/iterator_ops.py:766\u001b[0m, in \u001b[0;36mOwnedIterator.__next__\u001b[0;34m(self)\u001b[0m\n\u001b[1;32m    764\u001b[0m \u001b[39mdef\u001b[39;00m \u001b[39m__next__\u001b[39m(\u001b[39mself\u001b[39m):\n\u001b[1;32m    765\u001b[0m   \u001b[39mtry\u001b[39;00m:\n\u001b[0;32m--> 766\u001b[0m     \u001b[39mreturn\u001b[39;00m \u001b[39mself\u001b[39;49m\u001b[39m.\u001b[39;49m_next_internal()\n\u001b[1;32m    767\u001b[0m   \u001b[39mexcept\u001b[39;00m errors\u001b[39m.\u001b[39mOutOfRangeError:\n\u001b[1;32m    768\u001b[0m     \u001b[39mraise\u001b[39;00m \u001b[39mStopIteration\u001b[39;00m\n",
      "File \u001b[0;32m~/.miniforge3/envs/asr/lib/python3.10/site-packages/tensorflow/python/data/ops/iterator_ops.py:749\u001b[0m, in \u001b[0;36mOwnedIterator._next_internal\u001b[0;34m(self)\u001b[0m\n\u001b[1;32m    746\u001b[0m \u001b[39m# TODO(b/77291417): This runs in sync mode as iterators use an error status\u001b[39;00m\n\u001b[1;32m    747\u001b[0m \u001b[39m# to communicate that there is no more data to iterate over.\u001b[39;00m\n\u001b[1;32m    748\u001b[0m \u001b[39mwith\u001b[39;00m context\u001b[39m.\u001b[39mexecution_mode(context\u001b[39m.\u001b[39mSYNC):\n\u001b[0;32m--> 749\u001b[0m   ret \u001b[39m=\u001b[39m gen_dataset_ops\u001b[39m.\u001b[39;49miterator_get_next(\n\u001b[1;32m    750\u001b[0m       \u001b[39mself\u001b[39;49m\u001b[39m.\u001b[39;49m_iterator_resource,\n\u001b[1;32m    751\u001b[0m       output_types\u001b[39m=\u001b[39;49m\u001b[39mself\u001b[39;49m\u001b[39m.\u001b[39;49m_flat_output_types,\n\u001b[1;32m    752\u001b[0m       output_shapes\u001b[39m=\u001b[39;49m\u001b[39mself\u001b[39;49m\u001b[39m.\u001b[39;49m_flat_output_shapes)\n\u001b[1;32m    754\u001b[0m   \u001b[39mtry\u001b[39;00m:\n\u001b[1;32m    755\u001b[0m     \u001b[39m# Fast path for the case `self._structure` is not a nested structure.\u001b[39;00m\n\u001b[1;32m    756\u001b[0m     \u001b[39mreturn\u001b[39;00m \u001b[39mself\u001b[39m\u001b[39m.\u001b[39m_element_spec\u001b[39m.\u001b[39m_from_compatible_tensor_list(ret)  \u001b[39m# pylint: disable=protected-access\u001b[39;00m\n",
      "File \u001b[0;32m~/.miniforge3/envs/asr/lib/python3.10/site-packages/tensorflow/python/ops/gen_dataset_ops.py:3017\u001b[0m, in \u001b[0;36miterator_get_next\u001b[0;34m(iterator, output_types, output_shapes, name)\u001b[0m\n\u001b[1;32m   3015\u001b[0m   \u001b[39mreturn\u001b[39;00m _result\n\u001b[1;32m   3016\u001b[0m \u001b[39mexcept\u001b[39;00m _core\u001b[39m.\u001b[39m_NotOkStatusException \u001b[39mas\u001b[39;00m e:\n\u001b[0;32m-> 3017\u001b[0m   _ops\u001b[39m.\u001b[39;49mraise_from_not_ok_status(e, name)\n\u001b[1;32m   3018\u001b[0m \u001b[39mexcept\u001b[39;00m _core\u001b[39m.\u001b[39m_FallbackException:\n\u001b[1;32m   3019\u001b[0m   \u001b[39mpass\u001b[39;00m\n",
      "File \u001b[0;32m~/.miniforge3/envs/asr/lib/python3.10/site-packages/tensorflow/python/framework/ops.py:7209\u001b[0m, in \u001b[0;36mraise_from_not_ok_status\u001b[0;34m(e, name)\u001b[0m\n\u001b[1;32m   7207\u001b[0m \u001b[39mdef\u001b[39;00m \u001b[39mraise_from_not_ok_status\u001b[39m(e, name):\n\u001b[1;32m   7208\u001b[0m   e\u001b[39m.\u001b[39mmessage \u001b[39m+\u001b[39m\u001b[39m=\u001b[39m (\u001b[39m\"\u001b[39m\u001b[39m name: \u001b[39m\u001b[39m\"\u001b[39m \u001b[39m+\u001b[39m name \u001b[39mif\u001b[39;00m name \u001b[39mis\u001b[39;00m \u001b[39mnot\u001b[39;00m \u001b[39mNone\u001b[39;00m \u001b[39melse\u001b[39;00m \u001b[39m\"\u001b[39m\u001b[39m\"\u001b[39m)\n\u001b[0;32m-> 7209\u001b[0m   \u001b[39mraise\u001b[39;00m core\u001b[39m.\u001b[39m_status_to_exception(e) \u001b[39mfrom\u001b[39;00m \u001b[39mNone\u001b[39m\n",
      "\u001b[0;31mInvalidArgumentError\u001b[0m: {{function_node __wrapped__IteratorGetNext_output_types_2_device_/job:localhost/replica:0/task:0/device:CPU:0}} Data too short when trying to read string\n\t [[{{node DecodeWav}}]] [Op:IteratorGetNext]"
     ]
    }
   ],
   "source": [
    "for example_audio, example_labels in train_ds.take(1):\n",
    "  print('Audio shape: ', example_audio.numpy().shape)\n",
    "  print('Audio label: ', example_label.numpy().shape)"
   ]
  },
  {
   "cell_type": "code",
   "execution_count": null,
   "metadata": {},
   "outputs": [],
   "source": []
  }
 ],
 "metadata": {
  "kernelspec": {
   "display_name": "Python 3.10.6 ('asr')",
   "language": "python",
   "name": "python3"
  },
  "language_info": {
   "codemirror_mode": {
    "name": "ipython",
    "version": 3
   },
   "file_extension": ".py",
   "mimetype": "text/x-python",
   "name": "python",
   "nbconvert_exporter": "python",
   "pygments_lexer": "ipython3",
   "version": "3.10.6"
  },
  "orig_nbformat": 4,
  "vscode": {
   "interpreter": {
    "hash": "4c05bba1dee2e93271d0ad31327acf44097d85483a4489063cc6434ff5232bcf"
   }
  }
 },
 "nbformat": 4,
 "nbformat_minor": 2
}
