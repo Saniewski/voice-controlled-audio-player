{
 "cells": [
  {
   "cell_type": "code",
   "execution_count": null,
   "metadata": {},
   "outputs": [],
   "source": [
    "import os, torch, jiwer, librosa\n",
    "import matplotlib.pyplot as plt\n",
    "%matplotlib inline\n",
    "from tqdm import tqdm\n",
    "from transformers import Wav2Vec2ForCTC, Wav2Vec2Processor"
   ]
  },
  {
   "cell_type": "code",
   "execution_count": null,
   "metadata": {},
   "outputs": [],
   "source": [
    "processor = Wav2Vec2Processor.from_pretrained(\"facebook/wav2vec2-base-960h\")\n",
    "model = Wav2Vec2ForCTC.from_pretrained(\"facebook/wav2vec2-base-960h\")"
   ]
  },
  {
   "cell_type": "code",
   "execution_count": null,
   "metadata": {},
   "outputs": [],
   "source": [
    "blacklisted_paths = [\n",
    "  '.DS_Store'\n",
    "]"
   ]
  },
  {
   "cell_type": "code",
   "execution_count": null,
   "metadata": {},
   "outputs": [],
   "source": [
    "files = {}\n",
    "for i, command in enumerate(sorted(os.listdir('../recordings/'))[1:-1]):\n",
    "  if command in blacklisted_paths:\n",
    "    continue\n",
    "  for j, sample in enumerate(sorted(os.listdir(f'../recordings/{command}/'))):\n",
    "    if sample in blacklisted_paths:\n",
    "      continue\n",
    "    data, _ = librosa.load(f'../recordings/{command}/{sample}', sr=16000)\n",
    "    files[f'{command}/{sample}'] = data.astype('float32')"
   ]
  },
  {
   "cell_type": "code",
   "execution_count": null,
   "metadata": {},
   "outputs": [],
   "source": [
    "# plt.figure(figsize=(16, 4))\n",
    "# plt.plot(files[files.keys().__iter__().__next__()])"
   ]
  },
  {
   "cell_type": "code",
   "execution_count": null,
   "metadata": {},
   "outputs": [],
   "source": [
    "trans = {}\n",
    "for name, data in tqdm(files.items()):\n",
    "  input_values = processor(data, sampling_rate=16_000, return_tensors='pt', padding='longest').input_values\n",
    "  logits = model(input_values).logits\n",
    "  predicted_ids = torch.argmax(logits, dim=-1)\n",
    "  trans[name] = processor.batch_decode(predicted_ids)[0]"
   ]
  },
  {
   "cell_type": "code",
   "execution_count": null,
   "metadata": {},
   "outputs": [],
   "source": [
    "trans"
   ]
  },
  {
   "cell_type": "code",
   "execution_count": null,
   "metadata": {},
   "outputs": [],
   "source": [
    "ref = {}\n",
    "for name, data in tqdm(files.items()):\n",
    "  ref[name] = name.split('/')[0]"
   ]
  },
  {
   "cell_type": "code",
   "execution_count": null,
   "metadata": {},
   "outputs": [],
   "source": [
    "ref"
   ]
  },
  {
   "cell_type": "code",
   "execution_count": null,
   "metadata": {},
   "outputs": [],
   "source": [
    "def evaluate(ref, trans):\n",
    "  h = []\n",
    "  r = []\n",
    "\n",
    "  for name in trans.keys():\n",
    "    print(f'name: {name}, true: {ref[name]}, pred: {trans[name].lower()}')\n",
    "    h.append(trans[name].lower())\n",
    "    r.append(ref[name])\n",
    "\n",
    "  print(jiwer.compute_measures(r, h))"
   ]
  },
  {
   "cell_type": "code",
   "execution_count": null,
   "metadata": {},
   "outputs": [],
   "source": [
    "evaluate(ref, trans)"
   ]
  },
  {
   "cell_type": "code",
   "execution_count": null,
   "metadata": {},
   "outputs": [],
   "source": [
    "from speechbrain.pretrained import EncoderDecoderASR\n",
    "\n",
    "asr_model = EncoderDecoderASR.from_hparams(source=\"speechbrain/asr-crdnn-rnnlm-librispeech\", savedir=\"pretrained_models/asr-crdnn-rnnlm-librispeech\")"
   ]
  },
  {
   "cell_type": "code",
   "execution_count": null,
   "metadata": {},
   "outputs": [],
   "source": [
    "trans = {}\n",
    "for i, command in enumerate(sorted(os.listdir('../recordings/'))[1:-1]):\n",
    "  if command in blacklisted_paths:\n",
    "    continue\n",
    "  for j, sample in enumerate(sorted(os.listdir(f'../recordings/{command}/'))):\n",
    "    if sample in blacklisted_paths:\n",
    "      continue\n",
    "    # trans[sample] = asr_model.transcribe_file(f\"../recordings/{command}/{sample}\")\n",
    "    trans[f'{command}/{sample}'] = asr_model.transcribe_file(f\"../recordings/{command}/{sample}\")\n",
    "    os.remove(f\"./{sample}\")"
   ]
  },
  {
   "cell_type": "code",
   "execution_count": null,
   "metadata": {},
   "outputs": [],
   "source": [
    "evaluate(ref, trans)"
   ]
  },
  {
   "cell_type": "code",
   "execution_count": null,
   "metadata": {},
   "outputs": [],
   "source": []
  }
 ],
 "metadata": {
  "kernelspec": {
   "display_name": "Python 3.10.6 ('asr')",
   "language": "python",
   "name": "python3"
  },
  "language_info": {
   "codemirror_mode": {
    "name": "ipython",
    "version": 3
   },
   "file_extension": ".py",
   "mimetype": "text/x-python",
   "name": "python",
   "nbconvert_exporter": "python",
   "pygments_lexer": "ipython3",
   "version": "3.10.6"
  },
  "orig_nbformat": 4,
  "vscode": {
   "interpreter": {
    "hash": "4c05bba1dee2e93271d0ad31327acf44097d85483a4489063cc6434ff5232bcf"
   }
  }
 },
 "nbformat": 4,
 "nbformat_minor": 2
}
